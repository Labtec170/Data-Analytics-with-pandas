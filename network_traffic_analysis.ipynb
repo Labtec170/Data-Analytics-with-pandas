{
 "cells": [
  {
   "cell_type": "markdown",
   "id": "ce0f03f0-a9d5-4c99-95da-21a55fca6fde",
   "metadata": {},
   "source": [
    "### Cybersecurity Network Traffic Analysis"
   ]
  },
  {
   "cell_type": "markdown",
   "id": "d8f8f2d1-7272-4213-96d8-8588c3f6dd69",
   "metadata": {},
   "source": [
    "### Installing and Importing pandas"
   ]
  },
  {
   "cell_type": "code",
   "execution_count": 76,
   "id": "d629cf39-089b-40a0-9475-6325e3cd48b3",
   "metadata": {},
   "outputs": [],
   "source": [
    "# Install and import pandas\n",
    "import pandas as pd"
   ]
  },
  {
   "cell_type": "markdown",
   "id": "0d04391e-5852-44c9-9d20-cfea4e0ea094",
   "metadata": {},
   "source": [
    "### Load the Dataset from GitHub for Analysis"
   ]
  },
  {
   "cell_type": "code",
   "execution_count": 77,
   "id": "40c83e33-2aed-40cb-9e02-72c7831a55c6",
   "metadata": {},
   "outputs": [],
   "source": [
    "### Load dataset from Github\n",
    "url = \"https://raw.githubusercontent.com/ritaafrica/data/refs/heads/main/network_traffic_data.csv\""
   ]
  },
  {
   "cell_type": "code",
   "execution_count": 78,
   "id": "ae4032d3-caa8-4b98-b05e-e4f6f58e7faf",
   "metadata": {},
   "outputs": [],
   "source": [
    "# Reading CSV file into a DataFrame\n",
    "df = pd.read_csv(url)"
   ]
  },
  {
   "cell_type": "markdown",
   "id": "ced388b7-9a4f-46d6-b803-942714a812ce",
   "metadata": {},
   "source": [
    "### Exploring traffic in the dataset"
   ]
  },
  {
   "cell_type": "code",
   "execution_count": 79,
   "id": "2c135032-dbe0-418e-a5f7-e8fd749f0222",
   "metadata": {},
   "outputs": [
    {
     "data": {
      "text/html": [
       "<div>\n",
       "<style scoped>\n",
       "    .dataframe tbody tr th:only-of-type {\n",
       "        vertical-align: middle;\n",
       "    }\n",
       "\n",
       "    .dataframe tbody tr th {\n",
       "        vertical-align: top;\n",
       "    }\n",
       "\n",
       "    .dataframe thead th {\n",
       "        text-align: right;\n",
       "    }\n",
       "</style>\n",
       "<table border=\"1\" class=\"dataframe\">\n",
       "  <thead>\n",
       "    <tr style=\"text-align: right;\">\n",
       "      <th></th>\n",
       "      <th>Timestamp</th>\n",
       "      <th>Source_IP</th>\n",
       "      <th>Destination_IP</th>\n",
       "      <th>Protocol</th>\n",
       "      <th>Port</th>\n",
       "      <th>Bytes_Sent</th>\n",
       "      <th>Bytes_Received</th>\n",
       "      <th>Status</th>\n",
       "      <th>Threat_Level</th>\n",
       "    </tr>\n",
       "  </thead>\n",
       "  <tbody>\n",
       "    <tr>\n",
       "      <th>0</th>\n",
       "      <td>2025-03-19 13:04:10</td>\n",
       "      <td>10.0.0.15</td>\n",
       "      <td>192.168.1.20</td>\n",
       "      <td>TCP</td>\n",
       "      <td>NaN</td>\n",
       "      <td>5411</td>\n",
       "      <td>8989</td>\n",
       "      <td>Blocked</td>\n",
       "      <td>Low</td>\n",
       "    </tr>\n",
       "    <tr>\n",
       "      <th>1</th>\n",
       "      <td>2025-03-19 13:03:40</td>\n",
       "      <td>192.168.1.13</td>\n",
       "      <td>172.217.169.46</td>\n",
       "      <td>ICMP</td>\n",
       "      <td>443.0</td>\n",
       "      <td>4999</td>\n",
       "      <td>11808</td>\n",
       "      <td>Allowed</td>\n",
       "      <td>Medium</td>\n",
       "    </tr>\n",
       "    <tr>\n",
       "      <th>2</th>\n",
       "      <td>2025-03-19 13:03:10</td>\n",
       "      <td>10.0.0.5</td>\n",
       "      <td>203.0.113.99</td>\n",
       "      <td>HTTP</td>\n",
       "      <td>443.0</td>\n",
       "      <td>6360</td>\n",
       "      <td>10852</td>\n",
       "      <td>Allowed</td>\n",
       "      <td>Medium</td>\n",
       "    </tr>\n",
       "    <tr>\n",
       "      <th>3</th>\n",
       "      <td>2025-03-19 13:02:40</td>\n",
       "      <td>10.0.0.9</td>\n",
       "      <td>192.168.1.20</td>\n",
       "      <td>TCP</td>\n",
       "      <td>NaN</td>\n",
       "      <td>4011</td>\n",
       "      <td>14314</td>\n",
       "      <td>Blocked</td>\n",
       "      <td>Low</td>\n",
       "    </tr>\n",
       "    <tr>\n",
       "      <th>4</th>\n",
       "      <td>2025-03-19 13:02:10</td>\n",
       "      <td>192.168.1.4</td>\n",
       "      <td>172.217.169.46</td>\n",
       "      <td>FTP</td>\n",
       "      <td>NaN</td>\n",
       "      <td>5254</td>\n",
       "      <td>8718</td>\n",
       "      <td>Blocked</td>\n",
       "      <td>Medium</td>\n",
       "    </tr>\n",
       "  </tbody>\n",
       "</table>\n",
       "</div>"
      ],
      "text/plain": [
       "             Timestamp     Source_IP  Destination_IP Protocol   Port  \\\n",
       "0  2025-03-19 13:04:10     10.0.0.15    192.168.1.20      TCP    NaN   \n",
       "1  2025-03-19 13:03:40  192.168.1.13  172.217.169.46     ICMP  443.0   \n",
       "2  2025-03-19 13:03:10      10.0.0.5    203.0.113.99     HTTP  443.0   \n",
       "3  2025-03-19 13:02:40      10.0.0.9    192.168.1.20      TCP    NaN   \n",
       "4  2025-03-19 13:02:10   192.168.1.4  172.217.169.46      FTP    NaN   \n",
       "\n",
       "   Bytes_Sent  Bytes_Received   Status Threat_Level  \n",
       "0        5411            8989  Blocked          Low  \n",
       "1        4999           11808  Allowed       Medium  \n",
       "2        6360           10852  Allowed       Medium  \n",
       "3        4011           14314  Blocked          Low  \n",
       "4        5254            8718  Blocked       Medium  "
      ]
     },
     "execution_count": 79,
     "metadata": {},
     "output_type": "execute_result"
    }
   ],
   "source": [
    "# Displaying the first five rows of the dataset\n",
    "df.head()"
   ]
  },
  {
   "cell_type": "markdown",
   "id": "0d769724-6981-43b4-8825-c4e85d2978d0",
   "metadata": {},
   "source": [
    "### Analyze trends based on specific feature correlations"
   ]
  },
  {
   "cell_type": "code",
   "execution_count": 80,
   "id": "b3d1623a-5580-46e7-852a-63a85fea8bea",
   "metadata": {},
   "outputs": [
    {
     "name": "stdout",
     "output_type": "stream",
     "text": [
      "Dataset Shape: (1000, 9)\n",
      "Total Rows: 1000\n",
      "Total Columns: 9\n"
     ]
    }
   ],
   "source": [
    "# Check the total number of rows and columns using f strings\n",
    "print(f\"Dataset Shape: {df.shape}\")\n",
    "print(f\"Total Rows: {df.shape[0]}\")\n",
    "print(f\"Total Columns: {df.shape[1]}\")"
   ]
  },
  {
   "cell_type": "code",
   "execution_count": 81,
   "id": "9cc45655-3e77-46fd-b8b5-4ab9a63aa25d",
   "metadata": {},
   "outputs": [
    {
     "name": "stdout",
     "output_type": "stream",
     "text": [
      "\n",
      "Column Name:\n",
      "Index(['Timestamp', 'Source_IP', 'Destination_IP', 'Protocol', 'Port',\n",
      "       'Bytes_Sent', 'Bytes_Received', 'Status', 'Threat_Level'],\n",
      "      dtype='object')\n"
     ]
    }
   ],
   "source": [
    "# Get the column names\n",
    "print(\"\\nColumn Name:\")\n",
    "print(df.columns)"
   ]
  },
  {
   "cell_type": "code",
   "execution_count": 82,
   "id": "e0da9c8c-774f-46e6-935a-e1a9a0a25a9e",
   "metadata": {},
   "outputs": [
    {
     "name": "stdout",
     "output_type": "stream",
     "text": [
      "\n",
      "Dataset Info:\n",
      "<class 'pandas.core.frame.DataFrame'>\n",
      "RangeIndex: 1000 entries, 0 to 999\n",
      "Data columns (total 9 columns):\n",
      " #   Column          Non-Null Count  Dtype  \n",
      "---  ------          --------------  -----  \n",
      " 0   Timestamp       1000 non-null   object \n",
      " 1   Source_IP       1000 non-null   object \n",
      " 2   Destination_IP  1000 non-null   object \n",
      " 3   Protocol        1000 non-null   object \n",
      " 4   Port            874 non-null    float64\n",
      " 5   Bytes_Sent      1000 non-null   int64  \n",
      " 6   Bytes_Received  1000 non-null   int64  \n",
      " 7   Status          1000 non-null   object \n",
      " 8   Threat_Level    1000 non-null   object \n",
      "dtypes: float64(1), int64(2), object(6)\n",
      "memory usage: 70.4+ KB\n",
      "None\n"
     ]
    }
   ],
   "source": [
    "# Display information about the dataset\n",
    "print(\"\\nDataset Info:\")\n",
    "print(df.info())"
   ]
  },
  {
   "cell_type": "code",
   "execution_count": 83,
   "id": "856ba616-9489-4ceb-a6d4-43c7b46d6e35",
   "metadata": {},
   "outputs": [
    {
     "name": "stdout",
     "output_type": "stream",
     "text": [
      "\n",
      "Summary Statistics:\n",
      "              Port   Bytes_Sent  Bytes_Received\n",
      "count   874.000000  1000.000000     1000.000000\n",
      "mean   1819.739130  5143.572000     7562.659000\n",
      "std    2899.374632  2808.256143     4240.206295\n",
      "min      21.000000   106.000000      102.000000\n",
      "25%      22.000000  2857.000000     4025.500000\n",
      "50%      80.000000  5224.000000     7584.500000\n",
      "75%    3389.000000  7487.750000    11147.750000\n",
      "max    8080.000000  9984.000000    14977.000000\n"
     ]
    }
   ],
   "source": [
    "# Show a summary statistics on average\n",
    "print(\"\\nSummary Statistics:\")\n",
    "print(df.describe())"
   ]
  },
  {
   "cell_type": "markdown",
   "id": "80648687-bb5c-4ae5-807d-ee5fecf5bd65",
   "metadata": {},
   "source": [
    "### Structure the Dataset for further Analysis"
   ]
  },
  {
   "cell_type": "code",
   "execution_count": 84,
   "id": "3cf1f853-18a8-41e3-ba33-dd335895bcc2",
   "metadata": {},
   "outputs": [
    {
     "name": "stdout",
     "output_type": "stream",
     "text": [
      "             Timestamp     Source_IP  Destination_IP   Status\n",
      "0  2025-03-19 13:04:10     10.0.0.15    192.168.1.20  Blocked\n",
      "1  2025-03-19 13:03:40  192.168.1.13  172.217.169.46  Allowed\n",
      "2  2025-03-19 13:03:10      10.0.0.5    203.0.113.99  Allowed\n",
      "3  2025-03-19 13:02:40      10.0.0.9    192.168.1.20  Blocked\n",
      "4  2025-03-19 13:02:10   192.168.1.4  172.217.169.46  Blocked\n"
     ]
    }
   ],
   "source": [
    "# Challenge 4\n",
    "# Filter  traffic base on targeted columns \n",
    "target_columns = df[[\"Timestamp\", \"Source_IP\", \"Destination_IP\", \"Status\"]]\n",
    "\n",
    "# Display the first few rows of the targeted traffic\n",
    "print(target_columns.head())"
   ]
  },
  {
   "cell_type": "code",
   "execution_count": 85,
   "id": "6644e169-e19c-428c-9e40-3e9b6d88434f",
   "metadata": {},
   "outputs": [],
   "source": [
    "# Challenge 5\n",
    "# Store targeted traffic in a variable for further analysis\n",
    "# Create and Store a single column of network activity as a series\n",
    "source_ips = df[\"Source_IP\"]\n"
   ]
  },
  {
   "cell_type": "code",
   "execution_count": 86,
   "id": "3858d995-bd2d-445f-bb38-99ecb775bf6b",
   "metadata": {},
   "outputs": [],
   "source": [
    "# Create and Store multiple columns of network activities in a DataFrame\n",
    "network_activity = df[[\"Source_IP\", \"Destination_IP\", \"Protocol\", \"Threat_Level\"]]\n"
   ]
  },
  {
   "cell_type": "code",
   "execution_count": 87,
   "id": "ee7e14c0-8bb9-4389-9cdc-c7ac62152adc",
   "metadata": {},
   "outputs": [
    {
     "name": "stdout",
     "output_type": "stream",
     "text": [
      "      Source_IP  Destination_IP Protocol Threat_Level\n",
      "0     10.0.0.15    192.168.1.20      TCP          Low\n",
      "1  192.168.1.13  172.217.169.46     ICMP       Medium\n",
      "2      10.0.0.5    203.0.113.99     HTTP       Medium\n",
      "3      10.0.0.9    192.168.1.20      TCP          Low\n",
      "4   192.168.1.4  172.217.169.46      FTP       Medium\n"
     ]
    }
   ],
   "source": [
    "# Display the first few rows of the network activities\n",
    "print(network_activity.head())"
   ]
  },
  {
   "cell_type": "markdown",
   "id": "a59489ae-8564-4e97-9d36-caaf6d5f081d",
   "metadata": {},
   "source": [
    "### Filtering blocked traffic"
   ]
  },
  {
   "cell_type": "code",
   "execution_count": 88,
   "id": "58587271-bec3-45c3-b9e8-70ec1f8bc400",
   "metadata": {},
   "outputs": [],
   "source": [
    "# Challenge 6\n",
    "# Detect unusual patterns in the network\n",
    "# Filter supicious traffic\n",
    "blocked_traffic = df[df[\"Status\"] == \"Blocked\"]"
   ]
  },
  {
   "cell_type": "code",
   "execution_count": 89,
   "id": "0a9a076d-bf91-40a9-8b3f-c545646b4389",
   "metadata": {},
   "outputs": [],
   "source": [
    "# Select key details for analysis\n",
    "blocked_summary = blocked_traffic[[\"Timestamp\", \"Source_IP\", \"Destination_IP\", \"Threat_Level\"]]"
   ]
  },
  {
   "cell_type": "code",
   "execution_count": 90,
   "id": "9fa256cf-36d7-46cc-9242-f0ac00e1e3af",
   "metadata": {},
   "outputs": [
    {
     "name": "stdout",
     "output_type": "stream",
     "text": [
      "              Timestamp    Source_IP  Destination_IP Threat_Level\n",
      "0   2025-03-19 13:04:10    10.0.0.15    192.168.1.20          Low\n",
      "3   2025-03-19 13:02:40     10.0.0.9    192.168.1.20          Low\n",
      "4   2025-03-19 13:02:10  192.168.1.4  172.217.169.46       Medium\n",
      "9   2025-03-19 12:59:40    10.0.0.43        10.0.0.5          Low\n",
      "10  2025-03-19 12:59:10    10.0.0.33    203.0.113.99       Medium\n"
     ]
    }
   ],
   "source": [
    "# Analyze security threats by extracting all blocked requests\n",
    "print(blocked_summary.head())"
   ]
  },
  {
   "cell_type": "code",
   "execution_count": 91,
   "id": "36d1153a-5e97-43e0-9a89-e389c047c779",
   "metadata": {},
   "outputs": [
    {
     "data": {
      "text/plain": [
       "(532, 9)"
      ]
     },
     "execution_count": 91,
     "metadata": {},
     "output_type": "execute_result"
    }
   ],
   "source": [
    "# Display the total amount of blocked traffic\n",
    "blocked_traffic.shape"
   ]
  },
  {
   "cell_type": "markdown",
   "id": "536f3aa2-3fd3-4816-a838-a43908f9e791",
   "metadata": {},
   "source": [
    "### Filtering Suspicious Traffic"
   ]
  },
  {
   "cell_type": "code",
   "execution_count": 92,
   "id": "3d2b9420-47e5-4b01-9843-2fab811c3575",
   "metadata": {},
   "outputs": [],
   "source": [
    "# Challange 7\n",
    "# Identify high potential security threats that need further investigation\n",
    "high_risk_traffic = df[df[\"Threat_Level\"] == \"Critical\"]"
   ]
  },
  {
   "cell_type": "code",
   "execution_count": 93,
   "id": "d1275029-5119-44f3-89f7-ec52aee478bd",
   "metadata": {},
   "outputs": [
    {
     "name": "stdout",
     "output_type": "stream",
     "text": [
      "               Timestamp     Source_IP  Destination_IP Protocol    Port  \\\n",
      "59   2025-03-19 12:34:40     10.0.0.47    192.168.1.20     ICMP     NaN   \n",
      "96   2025-03-19 12:16:10  192.168.1.35    203.0.113.99      FTP  8080.0   \n",
      "134  2025-03-19 11:57:10  192.168.1.17  172.217.169.46      DNS    22.0   \n",
      "150  2025-03-19 11:49:10  192.168.1.42        10.0.0.5     HTTP    53.0   \n",
      "209  2025-03-19 11:19:40     10.0.0.17    203.0.113.99      TCP  3389.0   \n",
      "\n",
      "     Bytes_Sent  Bytes_Received   Status Threat_Level  \n",
      "59         5885             463  Allowed     Critical  \n",
      "96         9371            7189  Allowed     Critical  \n",
      "134        6714           13124  Blocked     Critical  \n",
      "150        2702             634  Allowed     Critical  \n",
      "209        5085           10014  Blocked     Critical  \n"
     ]
    }
   ],
   "source": [
    "# Filter cretical traffic threats\n",
    "print(high_risk_traffic.head())"
   ]
  },
  {
   "cell_type": "code",
   "execution_count": 62,
   "id": "f936cc06-3831-4d26-8463-42392746a203",
   "metadata": {},
   "outputs": [
    {
     "data": {
      "text/plain": [
       "(47, 9)"
      ]
     },
     "execution_count": 62,
     "metadata": {},
     "output_type": "execute_result"
    }
   ],
   "source": [
    "# Filter total amount of threats\n",
    "high_risk_traffic.shape"
   ]
  },
  {
   "cell_type": "markdown",
   "id": "931672f8-bc52-4a64-818f-485352ef6174",
   "metadata": {},
   "source": [
    "### Detecting high data transfers"
   ]
  },
  {
   "cell_type": "code",
   "execution_count": 94,
   "id": "9fbd78ee-2c25-4600-977e-4f0d55c655ad",
   "metadata": {},
   "outputs": [],
   "source": [
    "# Challenge 8\n",
    "# Filter suspicious behaviour of high data transfers\n",
    "high_data_transfer = df[df[\"Bytes_Sent\"] > 5000]"
   ]
  },
  {
   "cell_type": "code",
   "execution_count": 95,
   "id": "3a1581ec-9dd5-42fe-82bf-fcdadbb53be0",
   "metadata": {},
   "outputs": [
    {
     "name": "stdout",
     "output_type": "stream",
     "text": [
      "             Timestamp     Source_IP  Destination_IP Protocol   Port  \\\n",
      "0  2025-03-19 13:04:10     10.0.0.15    192.168.1.20      TCP    NaN   \n",
      "2  2025-03-19 13:03:10      10.0.0.5    203.0.113.99     HTTP  443.0   \n",
      "4  2025-03-19 13:02:10   192.168.1.4  172.217.169.46      FTP    NaN   \n",
      "5  2025-03-19 13:01:40     10.0.0.43  172.217.169.46      DNS   53.0   \n",
      "7  2025-03-19 13:00:40  192.168.1.36    192.168.1.20      TCP   21.0   \n",
      "\n",
      "   Bytes_Sent  Bytes_Received   Status Threat_Level  \n",
      "0        5411            8989  Blocked          Low  \n",
      "2        6360           10852  Allowed       Medium  \n",
      "4        5254            8718  Blocked       Medium  \n",
      "5        6915           12981  Allowed          Low  \n",
      "7        5655             119  Allowed       Medium  \n"
     ]
    }
   ],
   "source": [
    "# Display suspicious behaviour of high data transfers\n",
    "print(high_data_transfer.head())"
   ]
  },
  {
   "cell_type": "code",
   "execution_count": 96,
   "id": "a576f6e2-2de7-4164-af3f-71781a939a5c",
   "metadata": {},
   "outputs": [
    {
     "data": {
      "text/plain": [
       "(518, 9)"
      ]
     },
     "execution_count": 96,
     "metadata": {},
     "output_type": "execute_result"
    }
   ],
   "source": [
    "# Filter total amount of high data transfers\n",
    "high_data_transfer.shape"
   ]
  },
  {
   "cell_type": "code",
   "execution_count": 97,
   "id": "0eebcdec-608d-4dc3-834b-05003f5fd5c1",
   "metadata": {},
   "outputs": [
    {
     "name": "stdout",
     "output_type": "stream",
     "text": [
      "Number of high-data transfers: 518\n"
     ]
    }
   ],
   "source": [
    "# Show the total number of high data transfers\n",
    "print(f\"Number of high-data transfers: {len(high_data_transfer)}\")"
   ]
  },
  {
   "cell_type": "markdown",
   "id": "034bd72c-16ae-478e-b744-9507aa900399",
   "metadata": {},
   "source": [
    "### Classifying network threats"
   ]
  },
  {
   "cell_type": "code",
   "execution_count": 98,
   "id": "ea2fa99e-e943-4096-8a6e-200415577efe",
   "metadata": {},
   "outputs": [],
   "source": [
    "# Challenge 9\n",
    "# Splitting dataset into X (Features) and y(Target Variable)\n",
    "# Selecting features (X) - Exclude the target variable\n",
    "X = df.drop(columns=[\"Threat_Level\"])\n",
    "\n"
   ]
  },
  {
   "cell_type": "code",
   "execution_count": 99,
   "id": "ae1587ea-958f-433f-ac67-22c6182c7afe",
   "metadata": {},
   "outputs": [],
   "source": [
    "# Select the target variable (y)\n",
    "y = df[\"Threat_Level\"]"
   ]
  },
  {
   "cell_type": "code",
   "execution_count": 100,
   "id": "a1b9f062-5d67-4e43-bc1a-0243ef33ab0f",
   "metadata": {},
   "outputs": [
    {
     "name": "stdout",
     "output_type": "stream",
     "text": [
      "Features (X):\n",
      "             Timestamp     Source_IP  Destination_IP Protocol   Port  \\\n",
      "0  2025-03-19 13:04:10     10.0.0.15    192.168.1.20      TCP    NaN   \n",
      "1  2025-03-19 13:03:40  192.168.1.13  172.217.169.46     ICMP  443.0   \n",
      "2  2025-03-19 13:03:10      10.0.0.5    203.0.113.99     HTTP  443.0   \n",
      "3  2025-03-19 13:02:40      10.0.0.9    192.168.1.20      TCP    NaN   \n",
      "4  2025-03-19 13:02:10   192.168.1.4  172.217.169.46      FTP    NaN   \n",
      "\n",
      "   Bytes_Sent  Bytes_Received   Status  \n",
      "0        5411            8989  Blocked  \n",
      "1        4999           11808  Allowed  \n",
      "2        6360           10852  Allowed  \n",
      "3        4011           14314  Blocked  \n",
      "4        5254            8718  Blocked  \n"
     ]
    }
   ],
   "source": [
    "# Display the first few rows of X and y\n",
    "print(\"Features (X):\")\n",
    "print(X.head())"
   ]
  },
  {
   "cell_type": "code",
   "execution_count": 101,
   "id": "ada4bda3-f7aa-49ec-9032-f92728ffe542",
   "metadata": {},
   "outputs": [
    {
     "name": "stdout",
     "output_type": "stream",
     "text": [
      "\n",
      "Target Variable (y):\n",
      "0       Low\n",
      "1    Medium\n",
      "2    Medium\n",
      "3       Low\n",
      "4    Medium\n",
      "Name: Threat_Level, dtype: object\n"
     ]
    }
   ],
   "source": [
    "# Display target variable (y) and the first few rows\n",
    "print(\"\\nTarget Variable (y):\")\n",
    "print(y.head())"
   ]
  },
  {
   "cell_type": "markdown",
   "id": "1a9f77c7-9196-4aa6-aaca-91835ae12142",
   "metadata": {},
   "source": [
    "### Eleminating Timestamps to focus on netwok behaviour"
   ]
  },
  {
   "cell_type": "code",
   "execution_count": 102,
   "id": "4f6ecf22-1a2d-43b2-a931-1f77a33f276f",
   "metadata": {},
   "outputs": [],
   "source": [
    "# Challenge 10\n",
    "# Remove the time an incendents was recorded on the network\n",
    "df =df.drop(columns=[\"Timestamp\"])"
   ]
  },
  {
   "cell_type": "code",
   "execution_count": 103,
   "id": "13512b63-5aeb-49b8-9eb7-565ef9575105",
   "metadata": {},
   "outputs": [
    {
     "name": "stdout",
     "output_type": "stream",
     "text": [
      "      Source_IP  Destination_IP Protocol   Port  Bytes_Sent  Bytes_Received  \\\n",
      "0     10.0.0.15    192.168.1.20      TCP    NaN        5411            8989   \n",
      "1  192.168.1.13  172.217.169.46     ICMP  443.0        4999           11808   \n",
      "2      10.0.0.5    203.0.113.99     HTTP  443.0        6360           10852   \n",
      "3      10.0.0.9    192.168.1.20      TCP    NaN        4011           14314   \n",
      "4   192.168.1.4  172.217.169.46      FTP    NaN        5254            8718   \n",
      "\n",
      "    Status Threat_Level  \n",
      "0  Blocked          Low  \n",
      "1  Allowed       Medium  \n",
      "2  Allowed       Medium  \n",
      "3  Blocked          Low  \n",
      "4  Blocked       Medium  \n"
     ]
    }
   ],
   "source": [
    "# Display the first few rows to confirm \n",
    "print(df.head())"
   ]
  },
  {
   "cell_type": "code",
   "execution_count": 104,
   "id": "63b454de-1e51-4a54-b728-7c440543877b",
   "metadata": {},
   "outputs": [],
   "source": [
    "high_data_transfer = df[df[\"Bytes_Sent\"] >5000]"
   ]
  },
  {
   "cell_type": "code",
   "execution_count": 105,
   "id": "a610c4ed-2c63-4d0e-9398-3d6c55f79fd9",
   "metadata": {},
   "outputs": [
    {
     "name": "stdout",
     "output_type": "stream",
     "text": [
      "      Source_IP  Destination_IP Protocol   Port  Bytes_Sent  Bytes_Received  \\\n",
      "0     10.0.0.15    192.168.1.20      TCP    NaN        5411            8989   \n",
      "2      10.0.0.5    203.0.113.99     HTTP  443.0        6360           10852   \n",
      "4   192.168.1.4  172.217.169.46      FTP    NaN        5254            8718   \n",
      "5     10.0.0.43  172.217.169.46      DNS   53.0        6915           12981   \n",
      "7  192.168.1.36    192.168.1.20      TCP   21.0        5655             119   \n",
      "\n",
      "    Status Threat_Level  \n",
      "0  Blocked          Low  \n",
      "2  Allowed       Medium  \n",
      "4  Blocked       Medium  \n",
      "5  Allowed          Low  \n",
      "7  Allowed       Medium  \n"
     ]
    }
   ],
   "source": [
    "print(high_data_transfer.head())"
   ]
  },
  {
   "cell_type": "code",
   "execution_count": null,
   "id": "c960c824-c38a-49f0-89d1-0464007efb70",
   "metadata": {},
   "outputs": [],
   "source": []
  }
 ],
 "metadata": {
  "kernelspec": {
   "display_name": "Python 3 (ipykernel)",
   "language": "python",
   "name": "python3"
  },
  "language_info": {
   "codemirror_mode": {
    "name": "ipython",
    "version": 3
   },
   "file_extension": ".py",
   "mimetype": "text/x-python",
   "name": "python",
   "nbconvert_exporter": "python",
   "pygments_lexer": "ipython3",
   "version": "3.13.2"
  }
 },
 "nbformat": 4,
 "nbformat_minor": 5
}
